{
  "nbformat": 4,
  "nbformat_minor": 0,
  "metadata": {
    "kernelspec": {
      "display_name": "Python 3",
      "language": "python",
      "name": "python3"
    },
    "language_info": {
      "codemirror_mode": {
        "name": "ipython",
        "version": 3
      },
      "file_extension": ".py",
      "mimetype": "text/x-python",
      "name": "python",
      "nbconvert_exporter": "python",
      "pygments_lexer": "ipython3",
      "version": "3.7.6"
    },
    "colab": {
      "name": "Pert2_Numpy (copy).ipynb",
      "provenance": [],
      "include_colab_link": true
    }
  },
  "cells": [
    {
      "cell_type": "markdown",
      "metadata": {
        "id": "view-in-github",
        "colab_type": "text"
      },
      "source": [
        "<a href=\"https://colab.research.google.com/github/ilhamsyamsuddin/intermediate-python-batch4/blob/main/Pert2_Numpy_(copy).ipynb\" target=\"_parent\"><img src=\"https://colab.research.google.com/assets/colab-badge.svg\" alt=\"Open In Colab\"/></a>"
      ]
    },
    {
      "cell_type": "markdown",
      "metadata": {
        "id": "vTu9QaZc6X1l"
      },
      "source": [
        "## Adding, removing, and sorting elements"
      ]
    },
    {
      "cell_type": "code",
      "metadata": {
        "id": "tuAqN-Mr6X1s"
      },
      "source": [
        "import numpy as np"
      ],
      "execution_count": null,
      "outputs": []
    },
    {
      "cell_type": "code",
      "metadata": {
        "id": "q1TmaMKG6X1t",
        "outputId": "cb7fee55-bc8c-4394-a3e6-c5de8f527c16"
      },
      "source": [
        "dtype = [('name', 'U10'), ('height', float), ('age', int)]\n",
        "values = [('Arthur', 1.8, 41), ('Lancelot', 1.9, 38),\n",
        "          ('Galahad', 1.7, 38)]\n",
        "a = np.array(values, dtype=dtype)\n",
        "a"
      ],
      "execution_count": null,
      "outputs": [
        {
          "output_type": "execute_result",
          "data": {
            "text/plain": [
              "array([('Arthur', 1.8, 41), ('Lancelot', 1.9, 38), ('Galahad', 1.7, 38)],\n",
              "      dtype=[('name', '<U10'), ('height', '<f8'), ('age', '<i8')])"
            ]
          },
          "metadata": {
            "tags": []
          },
          "execution_count": 89
        }
      ]
    },
    {
      "cell_type": "code",
      "metadata": {
        "id": "Q15W4Fvj6X1u",
        "outputId": "d13281c6-7fae-4177-9543-9d748aed23c8"
      },
      "source": [
        "# Append\n",
        "\n",
        "arr = np.arange(10)\n",
        "arr"
      ],
      "execution_count": null,
      "outputs": [
        {
          "output_type": "execute_result",
          "data": {
            "text/plain": [
              "array([0, 1, 2, 3, 4, 5, 6, 7, 8, 9])"
            ]
          },
          "metadata": {
            "tags": []
          },
          "execution_count": 90
        }
      ]
    },
    {
      "cell_type": "code",
      "metadata": {
        "id": "C-j9PwEa6X1v",
        "outputId": "a5acb81b-8343-449a-afce-1f1a2d59e339"
      },
      "source": [
        "np.append(arr, (10,11,12))"
      ],
      "execution_count": null,
      "outputs": [
        {
          "output_type": "execute_result",
          "data": {
            "text/plain": [
              "array([ 0,  1,  2,  3,  4,  5,  6,  7,  8,  9, 10, 11, 12])"
            ]
          },
          "metadata": {
            "tags": []
          },
          "execution_count": 91
        }
      ]
    },
    {
      "cell_type": "markdown",
      "metadata": {
        "id": "sP0VmKgN6X1w"
      },
      "source": [
        "When axis is specified, values must have the correct shape."
      ]
    },
    {
      "cell_type": "code",
      "metadata": {
        "id": "2tJN-tw46X10",
        "outputId": "f1187c44-7502-48d2-bba8-9d443e35bc43"
      },
      "source": [
        "arr1 = np.array([[1,2,3],\n",
        "                 [4,5,6]])\n",
        "arr1"
      ],
      "execution_count": null,
      "outputs": [
        {
          "output_type": "execute_result",
          "data": {
            "text/plain": [
              "array([[1, 2, 3],\n",
              "       [4, 5, 6]])"
            ]
          },
          "metadata": {
            "tags": []
          },
          "execution_count": 92
        }
      ]
    },
    {
      "cell_type": "code",
      "metadata": {
        "scrolled": true,
        "id": "WH5QQZ8h6X10",
        "outputId": "e4070a1e-c9bc-49c1-d9b3-af67d2c590ce"
      },
      "source": [
        "np.append(arr1, [[10,11,12]], axis=0)"
      ],
      "execution_count": null,
      "outputs": [
        {
          "output_type": "execute_result",
          "data": {
            "text/plain": [
              "array([[ 1,  2,  3],\n",
              "       [ 4,  5,  6],\n",
              "       [10, 11, 12]])"
            ]
          },
          "metadata": {
            "tags": []
          },
          "execution_count": 93
        }
      ]
    },
    {
      "cell_type": "code",
      "metadata": {
        "id": "ZnSBbHaF6X10"
      },
      "source": [
        "#Concatenate arrays"
      ],
      "execution_count": null,
      "outputs": []
    },
    {
      "cell_type": "code",
      "metadata": {
        "id": "pHYJKnzh6X11",
        "outputId": "e7b6fe71-a6e8-4c49-d17b-5383e48a01a6"
      },
      "source": [
        "a = np.array([[1, 2, 8], [5, 8, 10]])\n",
        "b = np.array([[8, 2, 1], [3, 9, 1]])\n",
        "c = np.concatenate((a, b), axis = 0)\n",
        "print(c)"
      ],
      "execution_count": null,
      "outputs": [
        {
          "output_type": "stream",
          "text": [
            "[[ 1  2  8]\n",
            " [ 5  8 10]\n",
            " [ 8  2  1]\n",
            " [ 3  9  1]]\n"
          ],
          "name": "stdout"
        }
      ]
    },
    {
      "cell_type": "code",
      "metadata": {
        "id": "RjQQd_jc6X11",
        "outputId": "9f77445c-5b5c-4028-9925-02163cd010f1"
      },
      "source": [
        "a = np.array([[1, 2, 8], [5, 8, 10]])\n",
        "b = np.array([[8, 2, 1], [3, 9, 1]])\n",
        "c = np.concatenate((a, b), axis = 1)\n",
        "print(c)"
      ],
      "execution_count": null,
      "outputs": [
        {
          "output_type": "stream",
          "text": [
            "[[ 1  2  8  8  2  1]\n",
            " [ 5  8 10  3  9  1]]\n"
          ],
          "name": "stdout"
        }
      ]
    },
    {
      "cell_type": "code",
      "metadata": {
        "id": "0LokhKzb6X11",
        "outputId": "fea0d1c4-f438-4854-b4ed-b143f753d739"
      },
      "source": [
        "np.concatenate((a,b), axis=None) #if axis = None, then arrays are flatten before use"
      ],
      "execution_count": null,
      "outputs": [
        {
          "output_type": "execute_result",
          "data": {
            "text/plain": [
              "array([ 1,  2,  8,  5,  8, 10,  8,  2,  1,  3,  9,  1])"
            ]
          },
          "metadata": {
            "tags": []
          },
          "execution_count": 97
        }
      ]
    },
    {
      "cell_type": "code",
      "metadata": {
        "id": "mWO7g5eB6X12",
        "outputId": "dc303200-82e7-449a-d1ae-f37a92b90f80"
      },
      "source": [
        "# sorting np.sort()\n",
        "arr = np.array([1,4,5,7,2])\n",
        "arr"
      ],
      "execution_count": null,
      "outputs": [
        {
          "output_type": "execute_result",
          "data": {
            "text/plain": [
              "array([1, 4, 5, 7, 2])"
            ]
          },
          "metadata": {
            "tags": []
          },
          "execution_count": 98
        }
      ]
    },
    {
      "cell_type": "code",
      "metadata": {
        "id": "rD_KnFm36X12",
        "outputId": "968f188d-2e21-424a-c285-de7073e8a65d"
      },
      "source": [
        "np.sort(arr)"
      ],
      "execution_count": null,
      "outputs": [
        {
          "output_type": "execute_result",
          "data": {
            "text/plain": [
              "array([1, 2, 4, 5, 7])"
            ]
          },
          "metadata": {
            "tags": []
          },
          "execution_count": 99
        }
      ]
    },
    {
      "cell_type": "code",
      "metadata": {
        "id": "o3ji39hC6X12",
        "outputId": "2661e5f9-8d1a-4f2a-80b7-155244c03388"
      },
      "source": [
        "np.sort(arr)[::-1]"
      ],
      "execution_count": null,
      "outputs": [
        {
          "output_type": "execute_result",
          "data": {
            "text/plain": [
              "array([7, 5, 4, 2, 1])"
            ]
          },
          "metadata": {
            "tags": []
          },
          "execution_count": 100
        }
      ]
    },
    {
      "cell_type": "markdown",
      "metadata": {
        "id": "yaccEEL96X13"
      },
      "source": [
        "### delete elements of an array"
      ]
    },
    {
      "cell_type": "code",
      "metadata": {
        "id": "EB6t590N6X13",
        "outputId": "5ee15a9b-fb31-4629-e027-3d72a7a1d173"
      },
      "source": [
        "arr = np.array([[1,2,3,4], [5,6,7,8], [9,10,11,12]])\n",
        "arr"
      ],
      "execution_count": null,
      "outputs": [
        {
          "output_type": "execute_result",
          "data": {
            "text/plain": [
              "array([[ 1,  2,  3,  4],\n",
              "       [ 5,  6,  7,  8],\n",
              "       [ 9, 10, 11, 12]])"
            ]
          },
          "metadata": {
            "tags": []
          },
          "execution_count": 101
        }
      ]
    },
    {
      "cell_type": "code",
      "metadata": {
        "id": "klsofrv26X13",
        "outputId": "0e29f5c1-507f-47e7-ad1a-e954607a409a"
      },
      "source": [
        "np.delete(arr, 1, axis=0)"
      ],
      "execution_count": null,
      "outputs": [
        {
          "output_type": "execute_result",
          "data": {
            "text/plain": [
              "array([[ 1,  2,  3,  4],\n",
              "       [ 9, 10, 11, 12]])"
            ]
          },
          "metadata": {
            "tags": []
          },
          "execution_count": 102
        }
      ]
    },
    {
      "cell_type": "markdown",
      "metadata": {
        "id": "aSLzxsHU6X13"
      },
      "source": [
        "## Shape and Size of an array"
      ]
    },
    {
      "cell_type": "markdown",
      "metadata": {
        "id": "zrM6dLMR6X14"
      },
      "source": [
        "`ndarray.ndim` : the number of axes \\\n",
        "`ndarray.size` : the total number of element \\\n",
        "`ndarray.shape` : the number of elements stored along each dimension of the array. If, for example, you have a 2-D array with 2 rows and 3 columns, the shape of your array is (2, 3)."
      ]
    },
    {
      "cell_type": "code",
      "metadata": {
        "id": "E9vCR4j16X14"
      },
      "source": [
        "my_array = np.array([[[0, 1, 2, 3],\n",
        "                      [4, 5, 6, 7]],\n",
        "                          \n",
        "                      [[0, 1, 2, 3],\n",
        "                      [4, 5, 6, 7]],\n",
        "                         \n",
        "                      [[0 ,1 ,2, 3],\n",
        "                      [4, 5, 6, 7]]])"
      ],
      "execution_count": null,
      "outputs": []
    },
    {
      "cell_type": "code",
      "metadata": {
        "id": "XnenjOxH6X14",
        "outputId": "595654ca-5234-4009-e14a-78d73bf47e2d"
      },
      "source": [
        "my_array.shape"
      ],
      "execution_count": null,
      "outputs": [
        {
          "output_type": "execute_result",
          "data": {
            "text/plain": [
              "(3, 2, 4)"
            ]
          },
          "metadata": {
            "tags": []
          },
          "execution_count": 104
        }
      ]
    },
    {
      "cell_type": "code",
      "metadata": {
        "id": "uTX9TJ0-6X14",
        "outputId": "313f2f9b-e742-4d60-a997-9685373e7da6"
      },
      "source": [
        "my_array.size"
      ],
      "execution_count": null,
      "outputs": [
        {
          "output_type": "execute_result",
          "data": {
            "text/plain": [
              "24"
            ]
          },
          "metadata": {
            "tags": []
          },
          "execution_count": 105
        }
      ]
    },
    {
      "cell_type": "code",
      "metadata": {
        "id": "nZ_g6vlQ6X15",
        "outputId": "4cf162f2-511d-4a90-8f85-4c4dc91b5666"
      },
      "source": [
        "my_array.ndim"
      ],
      "execution_count": null,
      "outputs": [
        {
          "output_type": "execute_result",
          "data": {
            "text/plain": [
              "3"
            ]
          },
          "metadata": {
            "tags": []
          },
          "execution_count": 106
        }
      ]
    },
    {
      "cell_type": "markdown",
      "metadata": {
        "id": "xN-Gw9we6X15"
      },
      "source": [
        "### Reshaping an array"
      ]
    },
    {
      "cell_type": "markdown",
      "metadata": {
        "id": "PnJBbZxc6X15"
      },
      "source": [
        "When you use the reshape method, the array you want to produce needs to have the same number of elements as the original array. If you start with an array with 12 elements, you’ll need to make sure that your new array also has a total of 12 elements."
      ]
    },
    {
      "cell_type": "code",
      "metadata": {
        "id": "4IPzsfz46X15",
        "outputId": "a5e1555c-fda9-4e82-faf5-41716fa70d6f"
      },
      "source": [
        "a = np.arange(6)\n",
        "a"
      ],
      "execution_count": null,
      "outputs": [
        {
          "output_type": "execute_result",
          "data": {
            "text/plain": [
              "array([0, 1, 2, 3, 4, 5])"
            ]
          },
          "metadata": {
            "tags": []
          },
          "execution_count": 111
        }
      ]
    },
    {
      "cell_type": "code",
      "metadata": {
        "scrolled": true,
        "id": "_R_hay-26X16",
        "outputId": "a0e4ab6c-2584-401c-dc59-4e15a1d488d8"
      },
      "source": [
        "b = a.reshape(2,3)\n",
        "b"
      ],
      "execution_count": null,
      "outputs": [
        {
          "output_type": "execute_result",
          "data": {
            "text/plain": [
              "array([[0, 1, 2],\n",
              "       [3, 4, 5]])"
            ]
          },
          "metadata": {
            "tags": []
          },
          "execution_count": 117
        }
      ]
    },
    {
      "cell_type": "code",
      "metadata": {
        "id": "tlFjgwlO6X16",
        "outputId": "61f3eca6-a388-4f38-d73b-926b33f9af06"
      },
      "source": [
        "b.shape"
      ],
      "execution_count": null,
      "outputs": [
        {
          "output_type": "execute_result",
          "data": {
            "text/plain": [
              "(2, 3)"
            ]
          },
          "metadata": {
            "tags": []
          },
          "execution_count": 116
        }
      ]
    },
    {
      "cell_type": "markdown",
      "metadata": {
        "id": "TswvcNeF6X16"
      },
      "source": [
        "## > Exercise 3"
      ]
    },
    {
      "cell_type": "markdown",
      "metadata": {
        "id": "7SWVWq8i6X16"
      },
      "source": [
        "1. create a 3x3 matrix with values ranging from 2 to 10"
      ]
    },
    {
      "cell_type": "markdown",
      "metadata": {
        "id": "b7-d86Sz6X17"
      },
      "source": [
        "2. concentenate the following arrays \\\n",
        "**[[0, 1, 3], [5, 7, 9]], [[0, 2, 4], [6, 8, 10]]**\n",
        "![](image/lat3.png)"
      ]
    },
    {
      "cell_type": "markdown",
      "metadata": {
        "id": "wtvBdsGT6X17"
      },
      "source": [
        "### Converting a 1D array into 2D array (add a new axis to an array)"
      ]
    },
    {
      "cell_type": "markdown",
      "metadata": {
        "id": "Nxg82VnD6X17"
      },
      "source": [
        "You can use `np.newaxis` and `np.expand_dims` to increase the dimensions of your existing array."
      ]
    },
    {
      "cell_type": "markdown",
      "metadata": {
        "id": "4G-dZM_q6X17"
      },
      "source": [
        "`np.newaxis` will increase the dimension of array by one whe it is used once. \\\n",
        "1D -> 2D, 2D -> 3D, and so on"
      ]
    },
    {
      "cell_type": "code",
      "metadata": {
        "id": "UxwlIBD06X17",
        "outputId": "abbd52d9-2de2-45c8-ed26-6404a1c6acda"
      },
      "source": [
        "a = np.arange(6)\n",
        "a"
      ],
      "execution_count": null,
      "outputs": [
        {
          "output_type": "execute_result",
          "data": {
            "text/plain": [
              "array([0, 1, 2, 3, 4, 5])"
            ]
          },
          "metadata": {
            "tags": []
          },
          "execution_count": 118
        }
      ]
    },
    {
      "cell_type": "code",
      "metadata": {
        "id": "xdqVi_4n6X18",
        "outputId": "3b44bc00-0bb1-4d89-f7c7-a700275f27f8"
      },
      "source": [
        "a.ndim"
      ],
      "execution_count": null,
      "outputs": [
        {
          "output_type": "execute_result",
          "data": {
            "text/plain": [
              "1"
            ]
          },
          "metadata": {
            "tags": []
          },
          "execution_count": 120
        }
      ]
    },
    {
      "cell_type": "code",
      "metadata": {
        "id": "yLItE-L06X18"
      },
      "source": [
        "# convert a 1D array to a row vector by inserting an axis along the first dimension\n",
        "a2 = a[np.newaxis, :]"
      ],
      "execution_count": null,
      "outputs": []
    },
    {
      "cell_type": "code",
      "metadata": {
        "id": "YbTlvc4W6X18",
        "outputId": "4597a6fe-d580-4e3b-bbaf-491097db9cb3"
      },
      "source": [
        "a2"
      ],
      "execution_count": null,
      "outputs": [
        {
          "output_type": "execute_result",
          "data": {
            "text/plain": [
              "array([[0, 1, 2, 3, 4, 5]])"
            ]
          },
          "metadata": {
            "tags": []
          },
          "execution_count": 122
        }
      ]
    },
    {
      "cell_type": "code",
      "metadata": {
        "id": "15Rljchr6X18",
        "outputId": "8c7abc55-4c21-4e22-bdea-a26912e52ce3"
      },
      "source": [
        "a2.ndim"
      ],
      "execution_count": null,
      "outputs": [
        {
          "output_type": "execute_result",
          "data": {
            "text/plain": [
              "2"
            ]
          },
          "metadata": {
            "tags": []
          },
          "execution_count": 124
        }
      ]
    },
    {
      "cell_type": "code",
      "metadata": {
        "scrolled": true,
        "id": "wFLDxqv36X19",
        "outputId": "c3c3e349-04f6-4683-aede-a081172de407"
      },
      "source": [
        "# for a column vector, you can insert an axis along the second dimension\n",
        "a3 = a[:, np.newaxis]\n",
        "a3"
      ],
      "execution_count": null,
      "outputs": [
        {
          "output_type": "execute_result",
          "data": {
            "text/plain": [
              "array([[0],\n",
              "       [1],\n",
              "       [2],\n",
              "       [3],\n",
              "       [4],\n",
              "       [5]])"
            ]
          },
          "metadata": {
            "tags": []
          },
          "execution_count": 125
        }
      ]
    },
    {
      "cell_type": "code",
      "metadata": {
        "id": "zhizZWuU6X19",
        "outputId": "9c0ac56d-e478-4f4c-b1ef-1934a248f020"
      },
      "source": [
        "a3.shape"
      ],
      "execution_count": null,
      "outputs": [
        {
          "output_type": "execute_result",
          "data": {
            "text/plain": [
              "(6, 1)"
            ]
          },
          "metadata": {
            "tags": []
          },
          "execution_count": 126
        }
      ]
    },
    {
      "cell_type": "code",
      "metadata": {
        "id": "BIWW2_cP6X19",
        "outputId": "8f20b74f-5e32-4348-8298-29381bb44235"
      },
      "source": [
        "a3.ndim"
      ],
      "execution_count": null,
      "outputs": [
        {
          "output_type": "execute_result",
          "data": {
            "text/plain": [
              "2"
            ]
          },
          "metadata": {
            "tags": []
          },
          "execution_count": 127
        }
      ]
    },
    {
      "cell_type": "markdown",
      "metadata": {
        "id": "vYxGyo7X6X19"
      },
      "source": [
        "using `np.expand_dims`"
      ]
    },
    {
      "cell_type": "code",
      "metadata": {
        "id": "9Yelqis16X19",
        "outputId": "b1ea38e2-dac7-4b8e-eefa-c2c85a9a10fd"
      },
      "source": [
        "a = np.arange(6)\n",
        "a"
      ],
      "execution_count": null,
      "outputs": [
        {
          "output_type": "execute_result",
          "data": {
            "text/plain": [
              "array([0, 1, 2, 3, 4, 5])"
            ]
          },
          "metadata": {
            "tags": []
          },
          "execution_count": 128
        }
      ]
    },
    {
      "cell_type": "code",
      "metadata": {
        "id": "IpfErO0O6X1-",
        "outputId": "231d1ffe-68cb-4c35-8b99-89859eafaf46"
      },
      "source": [
        "# You can use np.expand_dims to add an axis at index position 1\n",
        "b = np.expand_dims(a, axis=1)\n",
        "b"
      ],
      "execution_count": null,
      "outputs": [
        {
          "output_type": "execute_result",
          "data": {
            "text/plain": [
              "array([[0],\n",
              "       [1],\n",
              "       [2],\n",
              "       [3],\n",
              "       [4],\n",
              "       [5]])"
            ]
          },
          "metadata": {
            "tags": []
          },
          "execution_count": 129
        }
      ]
    },
    {
      "cell_type": "code",
      "metadata": {
        "id": "ZhgdrOou6X1-",
        "outputId": "e99907b9-df51-4460-fd66-523e136b51dd"
      },
      "source": [
        "# You can add an axis at index position 0 with\n",
        "c = np.expand_dims(a, axis=0)\n",
        "c"
      ],
      "execution_count": null,
      "outputs": [
        {
          "output_type": "execute_result",
          "data": {
            "text/plain": [
              "array([[0, 1, 2, 3, 4, 5]])"
            ]
          },
          "metadata": {
            "tags": []
          },
          "execution_count": 130
        }
      ]
    },
    {
      "cell_type": "code",
      "metadata": {
        "id": "7pP07aLa6X1-",
        "outputId": "8a5c1ff7-fd04-4693-cda0-801262a2d957"
      },
      "source": [
        "c.shape"
      ],
      "execution_count": null,
      "outputs": [
        {
          "output_type": "execute_result",
          "data": {
            "text/plain": [
              "(1, 6)"
            ]
          },
          "metadata": {
            "tags": []
          },
          "execution_count": 131
        }
      ]
    },
    {
      "cell_type": "markdown",
      "metadata": {
        "id": "hFjdW9w06X1-"
      },
      "source": [
        "## Indexing and slicing"
      ]
    },
    {
      "cell_type": "code",
      "metadata": {
        "id": "vaGmqXQR6X1_",
        "outputId": "7a5694e2-5549-4422-d198-21960b5b51c0"
      },
      "source": [
        "from numpy import random\n",
        "data = random.randint(2, 10, size=(10))\n",
        "data"
      ],
      "execution_count": null,
      "outputs": [
        {
          "output_type": "execute_result",
          "data": {
            "text/plain": [
              "array([9, 6, 7, 4, 6, 7, 6, 5, 8, 7])"
            ]
          },
          "metadata": {
            "tags": []
          },
          "execution_count": 140
        }
      ]
    },
    {
      "cell_type": "code",
      "metadata": {
        "id": "PB_PRyBn6X1_",
        "outputId": "eb1245db-f82a-40ac-a42c-ab7abf846f91"
      },
      "source": [
        "data[3]"
      ],
      "execution_count": null,
      "outputs": [
        {
          "output_type": "execute_result",
          "data": {
            "text/plain": [
              "4"
            ]
          },
          "metadata": {
            "tags": []
          },
          "execution_count": 141
        }
      ]
    },
    {
      "cell_type": "code",
      "metadata": {
        "id": "6Netz1Xy6X1_",
        "outputId": "acbd7bd9-dabe-4a1d-f97e-1244a3bd8bf2"
      },
      "source": [
        "data[:4]"
      ],
      "execution_count": null,
      "outputs": [
        {
          "output_type": "execute_result",
          "data": {
            "text/plain": [
              "array([9, 6, 7, 4])"
            ]
          },
          "metadata": {
            "tags": []
          },
          "execution_count": 142
        }
      ]
    },
    {
      "cell_type": "code",
      "metadata": {
        "id": "82pj05Dk6X1_",
        "outputId": "9f09e591-756b-4790-b083-e75dae5f2589"
      },
      "source": [
        "data[5:]"
      ],
      "execution_count": null,
      "outputs": [
        {
          "output_type": "execute_result",
          "data": {
            "text/plain": [
              "array([7, 6, 5, 8, 7])"
            ]
          },
          "metadata": {
            "tags": []
          },
          "execution_count": 143
        }
      ]
    },
    {
      "cell_type": "code",
      "metadata": {
        "id": "hy0z-RCl6X2A",
        "outputId": "a48d331a-e9cc-4d83-db5b-898328de87cb"
      },
      "source": [
        "data[:-3]"
      ],
      "execution_count": null,
      "outputs": [
        {
          "output_type": "execute_result",
          "data": {
            "text/plain": [
              "array([9, 6, 7, 4, 6, 7, 6])"
            ]
          },
          "metadata": {
            "tags": []
          },
          "execution_count": 147
        }
      ]
    },
    {
      "cell_type": "code",
      "metadata": {
        "id": "lKNLC1GJ6X2A",
        "outputId": "8671b4af-345f-418c-c5c3-d049b23616de"
      },
      "source": [
        "data[-2:]"
      ],
      "execution_count": null,
      "outputs": [
        {
          "output_type": "execute_result",
          "data": {
            "text/plain": [
              "array([8, 7])"
            ]
          },
          "metadata": {
            "tags": []
          },
          "execution_count": 148
        }
      ]
    },
    {
      "cell_type": "code",
      "metadata": {
        "id": "dExoCdjh6X2A",
        "outputId": "c3aa2924-7a95-4206-c707-f58767b4b95b"
      },
      "source": [
        "data[3:6]"
      ],
      "execution_count": null,
      "outputs": [
        {
          "output_type": "execute_result",
          "data": {
            "text/plain": [
              "array([4, 6, 7])"
            ]
          },
          "metadata": {
            "tags": []
          },
          "execution_count": 149
        }
      ]
    },
    {
      "cell_type": "markdown",
      "metadata": {
        "id": "TzsqeG016X2A"
      },
      "source": [
        "![](image/numpy.jpg)"
      ]
    },
    {
      "cell_type": "markdown",
      "metadata": {
        "id": "7h2pmeFZ6X2B"
      },
      "source": [
        "You may want to take a section of your array or specific array elements to use in further analysis or additional operations. To do that, you’ll need to subset, slice, and/or index your arrays.\n",
        "\n",
        "If you want to select values from your array that fulfill certain conditions, it’s straightforward with NumPy."
      ]
    },
    {
      "cell_type": "code",
      "metadata": {
        "id": "DlMCb0Xl6X2B"
      },
      "source": [
        "a = np.array([[1 , 2, 3, 4],\n",
        "              [5, 6, 7, 8],\n",
        "              [9, 10, 11, 12]])"
      ],
      "execution_count": null,
      "outputs": []
    },
    {
      "cell_type": "markdown",
      "metadata": {
        "id": "4jB5ogap6X2B"
      },
      "source": [
        "You can easily print all of the values in the array that are less than 5."
      ]
    },
    {
      "cell_type": "code",
      "metadata": {
        "id": "mVqnlv2t6X2C",
        "outputId": "18dc4aba-f2b4-48e1-9853-f7d4e74d2bb0"
      },
      "source": [
        "a[a<5]"
      ],
      "execution_count": null,
      "outputs": [
        {
          "output_type": "execute_result",
          "data": {
            "text/plain": [
              "array([1, 2, 3, 4])"
            ]
          },
          "metadata": {
            "tags": []
          },
          "execution_count": 151
        }
      ]
    },
    {
      "cell_type": "markdown",
      "metadata": {
        "id": "KSa-Vacl6X2C"
      },
      "source": [
        "You can also select, for example, numbers that are equal to or greater than 5, and use that condition to index an array."
      ]
    },
    {
      "cell_type": "code",
      "metadata": {
        "id": "vXBe0HEs6X2C",
        "outputId": "efdcebc9-f33d-4b8c-e79f-b4b24a14064e"
      },
      "source": [
        "five_up = a >= 5\n",
        "five_up"
      ],
      "execution_count": null,
      "outputs": [
        {
          "output_type": "execute_result",
          "data": {
            "text/plain": [
              "array([[False, False, False, False],\n",
              "       [ True,  True,  True,  True],\n",
              "       [ True,  True,  True,  True]])"
            ]
          },
          "metadata": {
            "tags": []
          },
          "execution_count": 152
        }
      ]
    },
    {
      "cell_type": "code",
      "metadata": {
        "id": "Lpeonvae6X2C",
        "outputId": "a9745fcb-2b2f-4c0c-eb64-e80b149c1ea9"
      },
      "source": [
        "a[five_up]"
      ],
      "execution_count": null,
      "outputs": [
        {
          "output_type": "execute_result",
          "data": {
            "text/plain": [
              "array([ 5,  6,  7,  8,  9, 10, 11, 12])"
            ]
          },
          "metadata": {
            "tags": []
          },
          "execution_count": 153
        }
      ]
    },
    {
      "cell_type": "code",
      "metadata": {
        "id": "PnYHaw-e6X2D",
        "outputId": "1d6b1a3b-bb86-410c-d60a-852f1c9c54f4"
      },
      "source": [
        "divisible_by_2 = a[a%2==0]\n",
        "print(divisible_by_2)"
      ],
      "execution_count": null,
      "outputs": [
        {
          "output_type": "stream",
          "text": [
            "[ 2  4  6  8 10 12]\n"
          ],
          "name": "stdout"
        }
      ]
    },
    {
      "cell_type": "markdown",
      "metadata": {
        "id": "yV0vzlQh6X2D"
      },
      "source": [
        "Or you can select elements that satisfy two conditions using the & and | operators:"
      ]
    },
    {
      "cell_type": "code",
      "metadata": {
        "id": "hvdhV0EW6X2D",
        "outputId": "6613905c-7b3f-4674-b858-1d41ba42fc93"
      },
      "source": [
        "c = a[(a > 2) & (a < 11)]\n",
        "print(c)"
      ],
      "execution_count": null,
      "outputs": [
        {
          "output_type": "stream",
          "text": [
            "[ 3  4  5  6  7  8  9 10]\n"
          ],
          "name": "stdout"
        }
      ]
    },
    {
      "cell_type": "code",
      "metadata": {
        "scrolled": false,
        "id": "Ns2OTNfU6X2D",
        "outputId": "5ae3ee97-37e8-4267-bb38-5c0449653430"
      },
      "source": [
        "# pipe, or, vertical bar: |\n",
        "five_up = (a > 5) | (a == 5)\n",
        "print(a[five_up])"
      ],
      "execution_count": null,
      "outputs": [
        {
          "output_type": "stream",
          "text": [
            "[ 5  6  7  8  9 10 11 12]\n"
          ],
          "name": "stdout"
        }
      ]
    },
    {
      "cell_type": "code",
      "metadata": {
        "id": "2L0MV-1E6X2E",
        "outputId": "899cd423-f5d2-43cb-f74e-b6f7d9b695a2"
      },
      "source": [
        "a"
      ],
      "execution_count": null,
      "outputs": [
        {
          "output_type": "execute_result",
          "data": {
            "text/plain": [
              "array([[ 1,  2,  3,  4],\n",
              "       [ 5,  6,  7,  8],\n",
              "       [ 9, 10, 11, 12]])"
            ]
          },
          "metadata": {
            "tags": []
          },
          "execution_count": 158
        }
      ]
    },
    {
      "cell_type": "code",
      "metadata": {
        "scrolled": true,
        "id": "Mrg59a186X2E",
        "outputId": "b00029ec-171b-4845-fe15-906dfbfca012"
      },
      "source": [
        "a[1,1:3]"
      ],
      "execution_count": null,
      "outputs": [
        {
          "output_type": "execute_result",
          "data": {
            "text/plain": [
              "array([6, 7])"
            ]
          },
          "metadata": {
            "tags": []
          },
          "execution_count": 159
        }
      ]
    },
    {
      "cell_type": "code",
      "metadata": {
        "id": "vDx6nFxJ6X2E",
        "outputId": "f26ecf40-f9ad-4755-fda1-6a6e09f6875f"
      },
      "source": [
        "z = np.array([[[0, 1, 3],\n",
        "               [5, 7, 9]],\n",
        "              \n",
        "              [[0, 2, 4],\n",
        "               [6, 8, 10]]])\n",
        "z"
      ],
      "execution_count": null,
      "outputs": [
        {
          "output_type": "execute_result",
          "data": {
            "text/plain": [
              "array([[[ 0,  1,  3],\n",
              "        [ 5,  7,  9]],\n",
              "\n",
              "       [[ 0,  2,  4],\n",
              "        [ 6,  8, 10]]])"
            ]
          },
          "metadata": {
            "tags": []
          },
          "execution_count": 160
        }
      ]
    },
    {
      "cell_type": "code",
      "metadata": {
        "id": "dVrafUr16X2E",
        "outputId": "12ba3e82-49f9-4382-e879-284d03f12248"
      },
      "source": [
        "z.shape"
      ],
      "execution_count": null,
      "outputs": [
        {
          "output_type": "execute_result",
          "data": {
            "text/plain": [
              "(2, 2, 3)"
            ]
          },
          "metadata": {
            "tags": []
          },
          "execution_count": 161
        }
      ]
    },
    {
      "cell_type": "code",
      "metadata": {
        "scrolled": true,
        "id": "mCxC0WVp6X2F",
        "outputId": "108f2cda-fe13-4498-b89f-a868255e7e68"
      },
      "source": [
        "z[0] # access row 0"
      ],
      "execution_count": null,
      "outputs": [
        {
          "output_type": "execute_result",
          "data": {
            "text/plain": [
              "array([[0, 1, 3],\n",
              "       [5, 7, 9]])"
            ]
          },
          "metadata": {
            "tags": []
          },
          "execution_count": 162
        }
      ]
    },
    {
      "cell_type": "code",
      "metadata": {
        "id": "FOOm1ueh6X2F",
        "outputId": "2a82bee7-311f-4606-9756-1b5afbda2ca1"
      },
      "source": [
        "z[0,1] # access row 0, column 1"
      ],
      "execution_count": null,
      "outputs": [
        {
          "output_type": "execute_result",
          "data": {
            "text/plain": [
              "array([5, 7, 9])"
            ]
          },
          "metadata": {
            "tags": []
          },
          "execution_count": 163
        }
      ]
    },
    {
      "cell_type": "code",
      "metadata": {
        "id": "kn1AHuid6X2F",
        "outputId": "ad806830-9df1-4837-9d77-ab9bc0e6a533"
      },
      "source": [
        "z[1,1,1:] #access row 1, column 1, depth 1-2"
      ],
      "execution_count": null,
      "outputs": [
        {
          "output_type": "execute_result",
          "data": {
            "text/plain": [
              "array([ 8, 10])"
            ]
          },
          "metadata": {
            "tags": []
          },
          "execution_count": 165
        }
      ]
    },
    {
      "cell_type": "markdown",
      "metadata": {
        "id": "IFDWY3xh6X2F"
      },
      "source": [
        "## > Exercise 4"
      ]
    },
    {
      "cell_type": "markdown",
      "metadata": {
        "id": "D61a-qHe6X2F"
      },
      "source": [
        "1. create a null vector / 1D array of size 10 and update fifth value to 11."
      ]
    },
    {
      "cell_type": "markdown",
      "metadata": {
        "id": "0UUD0is06X2G"
      },
      "source": [
        "2. Write a NumPy program to create a 2x3 arrays and change it into 3x2 arrays"
      ]
    },
    {
      "cell_type": "markdown",
      "metadata": {
        "id": "aH2WjnuJ6X2G"
      },
      "source": [
        "3. Write a NumPy program to create a 2d array with 1 on the border and 0 inside.\n",
        "![](image/lat1.png)"
      ]
    },
    {
      "cell_type": "markdown",
      "metadata": {
        "id": "-ogspLgx6X2G"
      },
      "source": [
        "4. Take a look at the following matrix. Access the [2, 1,1]"
      ]
    },
    {
      "cell_type": "code",
      "metadata": {
        "id": "LrgGV4dr6X2G"
      },
      "source": [
        "z = np.array([[[0, 1, 3],\n",
        "               [5, 7, 9],\n",
        "               [6, 8, 10]],\n",
        "              \n",
        "              [[0, 2, 4],\n",
        "               [6, 8, 10],\n",
        "               [0, 1, 3]],\n",
        "             \n",
        "              [[1, 1, 2],\n",
        "               [5, 2, 9],\n",
        "               [1, 3, 3]]])\n"
      ],
      "execution_count": null,
      "outputs": []
    },
    {
      "cell_type": "markdown",
      "metadata": {
        "id": "8t-OacCS6X2G"
      },
      "source": [
        "# Creating an array from existing data"
      ]
    },
    {
      "cell_type": "markdown",
      "metadata": {
        "id": "v4OYBTff6X2H"
      },
      "source": [
        "You can easily use create a new array from a section of an existing array."
      ]
    },
    {
      "cell_type": "code",
      "metadata": {
        "id": "3N6Ejbs36X2H",
        "outputId": "1d8c8670-ca8b-4bd4-d3a4-06e230501abe"
      },
      "source": [
        "a = np.array([1,  2,  3,  4,  5,  6,  7,  8,  9, 10])\n",
        "a"
      ],
      "execution_count": null,
      "outputs": [
        {
          "output_type": "execute_result",
          "data": {
            "text/plain": [
              "array([ 1,  2,  3,  4,  5,  6,  7,  8,  9, 10])"
            ]
          },
          "metadata": {
            "tags": []
          },
          "execution_count": 166
        }
      ]
    },
    {
      "cell_type": "code",
      "metadata": {
        "id": "_kwru9KM6X2H",
        "outputId": "fb43e247-3186-4254-faab-f014fa12fb3a"
      },
      "source": [
        "arr1 = a[3:8]\n",
        "arr1"
      ],
      "execution_count": null,
      "outputs": [
        {
          "output_type": "execute_result",
          "data": {
            "text/plain": [
              "array([4, 5, 6, 7, 8])"
            ]
          },
          "metadata": {
            "tags": []
          },
          "execution_count": 167
        }
      ]
    },
    {
      "cell_type": "markdown",
      "metadata": {
        "id": "qwO9acL36X2H"
      },
      "source": [
        "You can also stack two existing arrays, both vertically and horizontally. Let’s say you have two arrays, a1 and a2:"
      ]
    },
    {
      "cell_type": "code",
      "metadata": {
        "id": "m7RHp3rr6X2I"
      },
      "source": [
        "a1 = np.array([[1, 1],\n",
        "               [2, 2]])\n",
        "\n",
        "a2 = np.array([[3, 3],\n",
        "               [4, 4]])"
      ],
      "execution_count": null,
      "outputs": []
    },
    {
      "cell_type": "code",
      "metadata": {
        "scrolled": true,
        "id": "QVO8V_OO6X2I",
        "outputId": "2306c5a0-a911-4631-a28e-7577ad10b5db"
      },
      "source": [
        "np.vstack((a1,a2))"
      ],
      "execution_count": null,
      "outputs": [
        {
          "output_type": "execute_result",
          "data": {
            "text/plain": [
              "array([[1, 1],\n",
              "       [2, 2],\n",
              "       [3, 3],\n",
              "       [4, 4]])"
            ]
          },
          "metadata": {
            "tags": []
          },
          "execution_count": 170
        }
      ]
    },
    {
      "cell_type": "markdown",
      "metadata": {
        "id": "z7j0yJRD6X2I"
      },
      "source": [
        "using `hstack`"
      ]
    },
    {
      "cell_type": "code",
      "metadata": {
        "id": "Lwv_IMqc6X2I",
        "outputId": "72325b9a-31df-48f4-d44b-85feb9e21333"
      },
      "source": [
        "np.hstack((a1,a2))"
      ],
      "execution_count": null,
      "outputs": [
        {
          "output_type": "execute_result",
          "data": {
            "text/plain": [
              "array([[1, 1, 3, 3],\n",
              "       [2, 2, 4, 4]])"
            ]
          },
          "metadata": {
            "tags": []
          },
          "execution_count": 171
        }
      ]
    },
    {
      "cell_type": "markdown",
      "metadata": {
        "id": "_RVPjNBs6X2J"
      },
      "source": [
        "You can split an array into several smaller arrays using `hsplit`. You can specify either the number of equally shaped arrays to return or the columns after which the division should occur."
      ]
    },
    {
      "cell_type": "code",
      "metadata": {
        "id": "90RHDILk6X2J",
        "outputId": "46f9fd78-5522-4a16-c6e3-47a13b2c0198"
      },
      "source": [
        "x = np.arange(1, 25).reshape(2, 12)\n",
        "x"
      ],
      "execution_count": null,
      "outputs": [
        {
          "output_type": "execute_result",
          "data": {
            "text/plain": [
              "array([[ 1,  2,  3,  4,  5,  6,  7,  8,  9, 10, 11, 12],\n",
              "       [13, 14, 15, 16, 17, 18, 19, 20, 21, 22, 23, 24]])"
            ]
          },
          "metadata": {
            "tags": []
          },
          "execution_count": 172
        }
      ]
    },
    {
      "cell_type": "markdown",
      "metadata": {
        "id": "XSWb3d-O6X2J"
      },
      "source": [
        "If you wanted to split this array into three equally shaped arrays, you would run:"
      ]
    },
    {
      "cell_type": "code",
      "metadata": {
        "id": "fAMmJGPY6X2K",
        "outputId": "789a59fb-e8c8-42ea-b5af-0c1512a2f6d7"
      },
      "source": [
        "y = np.hsplit(x, 3)\n",
        "y"
      ],
      "execution_count": null,
      "outputs": [
        {
          "output_type": "execute_result",
          "data": {
            "text/plain": [
              "[array([[ 1,  2,  3,  4],\n",
              "        [13, 14, 15, 16]]),\n",
              " array([[ 5,  6,  7,  8],\n",
              "        [17, 18, 19, 20]]),\n",
              " array([[ 9, 10, 11, 12],\n",
              "        [21, 22, 23, 24]])]"
            ]
          },
          "metadata": {
            "tags": []
          },
          "execution_count": 173
        }
      ]
    },
    {
      "cell_type": "code",
      "metadata": {
        "id": "M7l_m_VT6X2K",
        "outputId": "f3947d20-2adc-46dc-8672-f5c1d706ae88"
      },
      "source": [
        "y[2]"
      ],
      "execution_count": null,
      "outputs": [
        {
          "output_type": "execute_result",
          "data": {
            "text/plain": [
              "array([[ 9, 10, 11, 12],\n",
              "       [21, 22, 23, 24]])"
            ]
          },
          "metadata": {
            "tags": []
          },
          "execution_count": 175
        }
      ]
    },
    {
      "cell_type": "markdown",
      "metadata": {
        "id": "fIVLyiRA6X2K"
      },
      "source": [
        "If you want to split your array after the third and fourth column, you’d run:"
      ]
    },
    {
      "cell_type": "code",
      "metadata": {
        "id": "exyU4gaA6X2K",
        "outputId": "fde867b6-2c15-427b-eb16-2082db73c575"
      },
      "source": [
        "x"
      ],
      "execution_count": null,
      "outputs": [
        {
          "output_type": "execute_result",
          "data": {
            "text/plain": [
              "array([[ 1,  2,  3,  4,  5,  6,  7,  8,  9, 10, 11, 12],\n",
              "       [13, 14, 15, 16, 17, 18, 19, 20, 21, 22, 23, 24]])"
            ]
          },
          "metadata": {
            "tags": []
          },
          "execution_count": 176
        }
      ]
    },
    {
      "cell_type": "code",
      "metadata": {
        "id": "o6zzhB2U6X2L",
        "outputId": "156e9ce1-b747-491c-e795-2446c6b33855"
      },
      "source": [
        "y = np.hsplit(x, (3,5)) #0:3, 3:5, \n",
        "y"
      ],
      "execution_count": null,
      "outputs": [
        {
          "output_type": "execute_result",
          "data": {
            "text/plain": [
              "[array([[ 1,  2,  3],\n",
              "        [13, 14, 15]]),\n",
              " array([[ 4,  5],\n",
              "        [16, 17]]),\n",
              " array([[ 6,  7,  8,  9, 10, 11, 12],\n",
              "        [18, 19, 20, 21, 22, 23, 24]])]"
            ]
          },
          "metadata": {
            "tags": []
          },
          "execution_count": 177
        }
      ]
    },
    {
      "cell_type": "code",
      "metadata": {
        "id": "gXlCkSUQ6X2L",
        "outputId": "c2627bc2-d1c4-4730-aeec-1765a5a7b3e6"
      },
      "source": [
        "y = np.hsplit(x, (1,3)) #0:1, 1:3, \n",
        "y"
      ],
      "execution_count": null,
      "outputs": [
        {
          "output_type": "execute_result",
          "data": {
            "text/plain": [
              "[array([[ 1],\n",
              "        [13]]),\n",
              " array([[ 2,  3],\n",
              "        [14, 15]]),\n",
              " array([[ 4,  5,  6,  7,  8,  9, 10, 11, 12],\n",
              "        [16, 17, 18, 19, 20, 21, 22, 23, 24]])]"
            ]
          },
          "metadata": {
            "tags": []
          },
          "execution_count": 178
        }
      ]
    },
    {
      "cell_type": "code",
      "metadata": {
        "id": "Bj9BqSQ06X2M",
        "outputId": "c8283de6-703f-4c3d-ac9d-49816ab04626"
      },
      "source": [
        "y = np.hsplit(x, (3,5,7)) #0:3, 3:5, 5:7,\n",
        "y"
      ],
      "execution_count": null,
      "outputs": [
        {
          "output_type": "execute_result",
          "data": {
            "text/plain": [
              "[array([[ 1,  2,  3],\n",
              "        [13, 14, 15]]),\n",
              " array([[ 4,  5],\n",
              "        [16, 17]]),\n",
              " array([[ 6,  7],\n",
              "        [18, 19]]),\n",
              " array([[ 8,  9, 10, 11, 12],\n",
              "        [20, 21, 22, 23, 24]])]"
            ]
          },
          "metadata": {
            "tags": []
          },
          "execution_count": 180
        }
      ]
    },
    {
      "cell_type": "markdown",
      "metadata": {
        "id": "GfRV86DR6X2M"
      },
      "source": [
        "# Basic array operations"
      ]
    },
    {
      "cell_type": "code",
      "metadata": {
        "id": "RoySXYb96X2M"
      },
      "source": [
        "data = np.array([1, 2])\n",
        "ones = np.ones(2, dtype=int)"
      ],
      "execution_count": null,
      "outputs": []
    },
    {
      "cell_type": "code",
      "metadata": {
        "id": "-QIBRGLG6X2M",
        "outputId": "19b1a4be-8c76-46fd-ee3f-d7f4739c1a56"
      },
      "source": [
        "data"
      ],
      "execution_count": null,
      "outputs": [
        {
          "output_type": "execute_result",
          "data": {
            "text/plain": [
              "array([1, 2])"
            ]
          },
          "metadata": {
            "tags": []
          },
          "execution_count": 182
        }
      ]
    },
    {
      "cell_type": "code",
      "metadata": {
        "scrolled": true,
        "id": "R92i_qsp6X2N",
        "outputId": "2256ac19-ced0-47e5-cf48-a0040cb8e480"
      },
      "source": [
        "ones"
      ],
      "execution_count": null,
      "outputs": [
        {
          "output_type": "execute_result",
          "data": {
            "text/plain": [
              "array([1, 1])"
            ]
          },
          "metadata": {
            "tags": []
          },
          "execution_count": 183
        }
      ]
    },
    {
      "cell_type": "code",
      "metadata": {
        "id": "tZvdZowg6X2N",
        "outputId": "c30471a0-fbcf-47ba-91dc-5065a67cf70b"
      },
      "source": [
        "data + ones"
      ],
      "execution_count": null,
      "outputs": [
        {
          "output_type": "execute_result",
          "data": {
            "text/plain": [
              "array([2, 3])"
            ]
          },
          "metadata": {
            "tags": []
          },
          "execution_count": 184
        }
      ]
    },
    {
      "cell_type": "markdown",
      "metadata": {
        "id": "W0d9DgKv6X2N"
      },
      "source": [
        "![](image/\"np_data_plus_ones.png\")"
      ]
    },
    {
      "cell_type": "code",
      "metadata": {
        "id": "nq3RV4Q96X2N",
        "outputId": "2ae92281-cd34-4669-9b21-eb8cd467c3af"
      },
      "source": [
        "data - ones"
      ],
      "execution_count": null,
      "outputs": [
        {
          "output_type": "execute_result",
          "data": {
            "text/plain": [
              "array([0, 1])"
            ]
          },
          "metadata": {
            "tags": []
          },
          "execution_count": 185
        }
      ]
    },
    {
      "cell_type": "code",
      "metadata": {
        "id": "7cbmeaPJ6X2N",
        "outputId": "79333707-0664-4a88-cbd7-2bbcb6c3207b"
      },
      "source": [
        "data * data"
      ],
      "execution_count": null,
      "outputs": [
        {
          "output_type": "execute_result",
          "data": {
            "text/plain": [
              "array([1, 4])"
            ]
          },
          "metadata": {
            "tags": []
          },
          "execution_count": 186
        }
      ]
    },
    {
      "cell_type": "code",
      "metadata": {
        "id": "6IHhhotv6X2O",
        "outputId": "d52aeaaf-9f3b-459b-c9d4-476f35218bd6"
      },
      "source": [
        "data / data"
      ],
      "execution_count": null,
      "outputs": [
        {
          "output_type": "execute_result",
          "data": {
            "text/plain": [
              "array([1., 1.])"
            ]
          },
          "metadata": {
            "tags": []
          },
          "execution_count": 187
        }
      ]
    },
    {
      "cell_type": "code",
      "metadata": {
        "id": "sGb8zP6P6X2O",
        "outputId": "4b865418-2391-45ff-b7cf-fa87c6f6b401"
      },
      "source": [
        "a = np.array([1, 2, 3, 4])\n",
        "\n",
        "a.sum()"
      ],
      "execution_count": null,
      "outputs": [
        {
          "output_type": "execute_result",
          "data": {
            "text/plain": [
              "10"
            ]
          },
          "metadata": {
            "tags": []
          },
          "execution_count": 188
        }
      ]
    },
    {
      "cell_type": "markdown",
      "metadata": {
        "id": "Z5nz20gB6X2O"
      },
      "source": [
        "sum the rows/columns"
      ]
    },
    {
      "cell_type": "code",
      "metadata": {
        "id": "0B739uIl6X2O",
        "outputId": "ff792da4-ca42-4e8f-a38e-a5cd3c704aea"
      },
      "source": [
        "b = np.array([[1, 1],\n",
        "              [2, 2]])\n",
        "b.sum(axis=0)"
      ],
      "execution_count": null,
      "outputs": [
        {
          "output_type": "execute_result",
          "data": {
            "text/plain": [
              "array([3, 3])"
            ]
          },
          "metadata": {
            "tags": []
          },
          "execution_count": 189
        }
      ]
    },
    {
      "cell_type": "code",
      "metadata": {
        "id": "0t2inwGg6X2P",
        "outputId": "8bd57234-4b19-425d-928a-bad0f0d162f8"
      },
      "source": [
        "b.sum(axis=1)"
      ],
      "execution_count": null,
      "outputs": [
        {
          "output_type": "execute_result",
          "data": {
            "text/plain": [
              "array([2, 4])"
            ]
          },
          "metadata": {
            "tags": []
          },
          "execution_count": 190
        }
      ]
    },
    {
      "cell_type": "markdown",
      "metadata": {
        "id": "rGOg_oM_6X2P"
      },
      "source": [
        "# Broadcasting"
      ]
    },
    {
      "cell_type": "markdown",
      "metadata": {
        "id": "x2XypVEs6X2P"
      },
      "source": [
        "There are times when you might want to carry out an operation between an array and a single number (also called an operation between a vector and a scalar) or between arrays of two different sizes. For example, your array (we’ll call it “data”) might contain information about distance in miles but you want to convert the information to kilometers. You can perform this operation with:"
      ]
    },
    {
      "cell_type": "code",
      "metadata": {
        "id": "VuJvCKSz6X2P",
        "outputId": "fc5b1d40-a4db-43fe-bcf0-bd23c82fae29"
      },
      "source": [
        "data = np.array([1.0, 2.0])\n",
        "data * 1.6"
      ],
      "execution_count": null,
      "outputs": [
        {
          "output_type": "execute_result",
          "data": {
            "text/plain": [
              "array([1.6, 3.2])"
            ]
          },
          "metadata": {
            "tags": []
          },
          "execution_count": 191
        }
      ]
    },
    {
      "cell_type": "markdown",
      "metadata": {
        "id": "WVUjDTso6X2Q"
      },
      "source": [
        "![](image/np_multiply_broadcasting.png)"
      ]
    },
    {
      "cell_type": "markdown",
      "metadata": {
        "id": "YL-o9Cty6X2Q"
      },
      "source": [
        "NumPy understands that the multiplication should happen with each cell. That concept is called <b> broadcasting </b>. Broadcasting is a mechanism that allows NumPy to perform operations on arrays of different shapes. "
      ]
    },
    {
      "cell_type": "markdown",
      "metadata": {
        "id": "mWH7-C7_6X2Q"
      },
      "source": [
        "# Working with Mathematical Formulas"
      ]
    },
    {
      "cell_type": "markdown",
      "metadata": {
        "id": "tKbBi1XA6X2Q"
      },
      "source": [
        "The ease of implementing mathematical formulas that work on arrays is one of the things that make NumPy so widely used in the scientific Python community."
      ]
    },
    {
      "cell_type": "markdown",
      "metadata": {
        "id": "kWE4jtad6X2R"
      },
      "source": [
        "![](image/np_MSE_formula.png)"
      ]
    },
    {
      "cell_type": "code",
      "metadata": {
        "id": "wZYDwjwj6X2R",
        "outputId": "d0839dd6-9427-4b90-8c38-f727fea3fb87"
      },
      "source": [
        "n = 3\n",
        "y_pred = np.array([1,1,1])\n",
        "labels = np.array([1,2,3])\n",
        "mse = (1/n) * np.sum(np.square(y_pred - labels))\n",
        "mse"
      ],
      "execution_count": null,
      "outputs": [
        {
          "output_type": "execute_result",
          "data": {
            "text/plain": [
              "1.6666666666666665"
            ]
          },
          "metadata": {
            "tags": []
          },
          "execution_count": 193
        }
      ]
    },
    {
      "cell_type": "markdown",
      "metadata": {
        "id": "Ex3VwKjn6X2S"
      },
      "source": [
        "![](image/np_mse_viz1.png)"
      ]
    },
    {
      "cell_type": "markdown",
      "metadata": {
        "id": "YNLEFO5i6X2S"
      },
      "source": [
        "![](image/np_mse_viz2.png)"
      ]
    },
    {
      "cell_type": "markdown",
      "metadata": {
        "id": "fhNDbv-_6X2S"
      },
      "source": [
        "# How to save and load NumPy objects?"
      ]
    },
    {
      "cell_type": "markdown",
      "metadata": {
        "id": "S0sQA50o6X2T"
      },
      "source": [
        "The ndarray objects can be saved to and loaded from the disk files with `loadtxt` and `savetxt` functions that handle normal text files, `load` and `save` functions that handle NumPy binary files with a .npy file extension, and a `savez` function that handles NumPy files with a .npz file extension."
      ]
    },
    {
      "cell_type": "markdown",
      "metadata": {
        "id": "g79hpSFT6X2T"
      },
      "source": [
        "If you want to store a single ndarray object, store it as a .npy file using np.save. If you want to store more than one ndarray object in a single file, save it as a .npz file using `np.savez`. You can also save several arrays into a single file in compressed npz format with `savez_compressed`."
      ]
    },
    {
      "cell_type": "code",
      "metadata": {
        "id": "U8mxMMMq6X2T"
      },
      "source": [
        "a = np.array([1, 2, 3, 4, 5, 6])"
      ],
      "execution_count": null,
      "outputs": []
    },
    {
      "cell_type": "code",
      "metadata": {
        "id": "nDrHks3V6X2U"
      },
      "source": [
        "np.save('myfile', a)"
      ],
      "execution_count": null,
      "outputs": []
    },
    {
      "cell_type": "code",
      "metadata": {
        "id": "Rsvv0S__6X2U"
      },
      "source": [
        "# load file\n",
        "\n",
        "b = np.load('myfile.npy')"
      ],
      "execution_count": null,
      "outputs": []
    },
    {
      "cell_type": "code",
      "metadata": {
        "id": "OwFayqS86X2U",
        "outputId": "8dcaac2f-a508-466f-cdb0-d7ca738a0bd1"
      },
      "source": [
        "b"
      ],
      "execution_count": null,
      "outputs": [
        {
          "output_type": "execute_result",
          "data": {
            "text/plain": [
              "array([1, 2, 3, 4, 5, 6])"
            ]
          },
          "metadata": {
            "tags": []
          },
          "execution_count": 197
        }
      ]
    },
    {
      "cell_type": "markdown",
      "metadata": {
        "id": "ZYWTOx3z6X2U"
      },
      "source": [
        "You can save a NumPy array as a plain text file like a .csv or .txt file with `np.savetxt`."
      ]
    },
    {
      "cell_type": "code",
      "metadata": {
        "id": "j3GHYZtR6X2V"
      },
      "source": [
        "csv_arr = np.array([1, 2, 3, 4, 5, 6, 7, 8])"
      ],
      "execution_count": null,
      "outputs": []
    },
    {
      "cell_type": "code",
      "metadata": {
        "id": "Qzy4PDLP6X2V"
      },
      "source": [
        "np.savetxt('myfile2.csv', csv_arr)"
      ],
      "execution_count": null,
      "outputs": []
    },
    {
      "cell_type": "code",
      "metadata": {
        "scrolled": true,
        "id": "qb_ub-bA6X2V",
        "outputId": "eff5e535-62cb-42e5-cf5e-06cfbb7c24b7"
      },
      "source": [
        "np.loadtxt('myfile2.csv')"
      ],
      "execution_count": null,
      "outputs": [
        {
          "output_type": "execute_result",
          "data": {
            "text/plain": [
              "array([1., 2., 3., 4., 5., 6., 7., 8.])"
            ]
          },
          "metadata": {
            "tags": []
          },
          "execution_count": 200
        }
      ]
    },
    {
      "cell_type": "markdown",
      "metadata": {
        "id": "WrFeYZCB6X2V"
      },
      "source": [
        "# ASSIGNMENT"
      ]
    },
    {
      "cell_type": "markdown",
      "metadata": {
        "id": "lU4D8a616X2W"
      },
      "source": [
        "1. Create a 4x4 matrix with values ranging from 0 to 3.\\\n",
        "(The following image is just as an example. It doesn't represent the real image of arrays in the question)\n",
        "![](image/assignment2.png)"
      ]
    },
    {
      "cell_type": "markdown",
      "metadata": {
        "id": "gQk9m8Aj6X2W"
      },
      "source": [
        "2. Create and array with shape of 4x4 and turn it into two arrays along the second axis.\\\n",
        "![](image/assignment.png)"
      ]
    },
    {
      "cell_type": "code",
      "metadata": {
        "id": "4mCWiNmx6X2W"
      },
      "source": [
        "import pandas as pd"
      ],
      "execution_count": null,
      "outputs": []
    },
    {
      "cell_type": "code",
      "metadata": {
        "id": "RecskicZ6X2W"
      },
      "source": [
        ""
      ],
      "execution_count": null,
      "outputs": []
    }
  ]
}